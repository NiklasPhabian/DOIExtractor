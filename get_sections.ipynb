{
 "cells": [
  {
   "cell_type": "code",
   "execution_count": 112,
   "id": "dd759226-0325-4f56-81e3-28552d1362a1",
   "metadata": {},
   "outputs": [],
   "source": [
    "import requests\n",
    "from bs4 import BeautifulSoup\n",
    "import re\n",
    "import json\n",
    "import pandas"
   ]
  },
  {
   "cell_type": "markdown",
   "id": "99578e8a-b76e-4367-8bf5-f88ff2093abd",
   "metadata": {},
   "source": [
    "# Resolve DOI metadata"
   ]
  },
  {
   "cell_type": "code",
   "execution_count": 122,
   "id": "04f0fdbd-5542-436f-b00f-955ed6f285bf",
   "metadata": {},
   "outputs": [],
   "source": [
    "doi = '10.1029/2020JD033923'\n",
    "doi_url = 'https://doi.org/{doi}'.format(doi=doi)\n",
    "headers = {'Accept': 'application/vnd.citationstyles.csl+json'}\n",
    "ret = requests.get(doi_url, headers=headers, timeout=60)\n",
    "doi_json = ret.json()"
   ]
  },
  {
   "cell_type": "markdown",
   "id": "06825340-8539-41b1-acb8-3db71d9fb72e",
   "metadata": {},
   "source": [
    "## Pulling out the title"
   ]
  },
  {
   "cell_type": "code",
   "execution_count": 116,
   "id": "1519f0a8-e155-4461-9116-037a0cfbc5b2",
   "metadata": {},
   "outputs": [
    {
     "data": {
      "text/plain": [
       "'Modeling the Radiative Effect on Microphysics in Cirrus Clouds Against Satellite Observations'"
      ]
     },
     "execution_count": 116,
     "metadata": {},
     "output_type": "execute_result"
    }
   ],
   "source": [
    "title = doi_json['title']\n",
    "title"
   ]
  },
  {
   "cell_type": "markdown",
   "id": "024196e1-8086-4075-adf7-0c9634ec39ed",
   "metadata": {},
   "source": [
    "## Pulling out authors ... dataframes for the win"
   ]
  },
  {
   "cell_type": "code",
   "execution_count": 121,
   "id": "5a41bc2a-cffe-4b9c-8c5d-4225117da8a8",
   "metadata": {},
   "outputs": [
    {
     "data": {
      "text/html": [
       "<div>\n",
       "<style scoped>\n",
       "    .dataframe tbody tr th:only-of-type {\n",
       "        vertical-align: middle;\n",
       "    }\n",
       "\n",
       "    .dataframe tbody tr th {\n",
       "        vertical-align: top;\n",
       "    }\n",
       "\n",
       "    .dataframe thead th {\n",
       "        text-align: right;\n",
       "    }\n",
       "</style>\n",
       "<table border=\"1\" class=\"dataframe\">\n",
       "  <thead>\n",
       "    <tr style=\"text-align: right;\">\n",
       "      <th></th>\n",
       "      <th>ORCID</th>\n",
       "      <th>authenticated-orcid</th>\n",
       "      <th>given</th>\n",
       "      <th>family</th>\n",
       "      <th>sequence</th>\n",
       "      <th>affiliation</th>\n",
       "    </tr>\n",
       "  </thead>\n",
       "  <tbody>\n",
       "    <tr>\n",
       "      <th>0</th>\n",
       "      <td>http://orcid.org/0000-0002-2947-4790</td>\n",
       "      <td>False</td>\n",
       "      <td>Xiping</td>\n",
       "      <td>Zeng</td>\n",
       "      <td>first</td>\n",
       "      <td>[{'name': 'Army Research Laboratory  Adelphi M...</td>\n",
       "    </tr>\n",
       "    <tr>\n",
       "      <th>1</th>\n",
       "      <td>http://orcid.org/0000-0001-5897-7023</td>\n",
       "      <td>False</td>\n",
       "      <td>Jie</td>\n",
       "      <td>Gong</td>\n",
       "      <td>additional</td>\n",
       "      <td>[{'name': 'NASA Goddard Space Flight Center  G...</td>\n",
       "    </tr>\n",
       "    <tr>\n",
       "      <th>2</th>\n",
       "      <td>http://orcid.org/0000-0001-8660-3387</td>\n",
       "      <td>False</td>\n",
       "      <td>Xiaowen</td>\n",
       "      <td>Li</td>\n",
       "      <td>additional</td>\n",
       "      <td>[{'name': 'NASA Goddard Space Flight Center  G...</td>\n",
       "    </tr>\n",
       "    <tr>\n",
       "      <th>3</th>\n",
       "      <td>http://orcid.org/0000-0002-3490-9437</td>\n",
       "      <td>False</td>\n",
       "      <td>Dong L.</td>\n",
       "      <td>Wu</td>\n",
       "      <td>additional</td>\n",
       "      <td>[{'name': 'NASA Goddard Space Flight Center  G...</td>\n",
       "    </tr>\n",
       "  </tbody>\n",
       "</table>\n",
       "</div>"
      ],
      "text/plain": [
       "                                  ORCID  authenticated-orcid    given family  \\\n",
       "0  http://orcid.org/0000-0002-2947-4790                False   Xiping   Zeng   \n",
       "1  http://orcid.org/0000-0001-5897-7023                False      Jie   Gong   \n",
       "2  http://orcid.org/0000-0001-8660-3387                False  Xiaowen     Li   \n",
       "3  http://orcid.org/0000-0002-3490-9437                False  Dong L.     Wu   \n",
       "\n",
       "     sequence                                        affiliation  \n",
       "0       first  [{'name': 'Army Research Laboratory  Adelphi M...  \n",
       "1  additional  [{'name': 'NASA Goddard Space Flight Center  G...  \n",
       "2  additional  [{'name': 'NASA Goddard Space Flight Center  G...  \n",
       "3  additional  [{'name': 'NASA Goddard Space Flight Center  G...  "
      ]
     },
     "execution_count": 121,
     "metadata": {},
     "output_type": "execute_result"
    }
   ],
   "source": [
    "author = doi_json['author']\n",
    "author = pandas.DataFrame(author)\n",
    "author"
   ]
  },
  {
   "cell_type": "markdown",
   "id": "025c0e6d-29cb-4fef-b3fa-50dcd3cbb64c",
   "metadata": {},
   "source": [
    "## Getting the URL of where the doc lives"
   ]
  },
  {
   "cell_type": "code",
   "execution_count": null,
   "id": "bbde9160-c2e7-400f-a8b5-d0bfaf873a5a",
   "metadata": {},
   "outputs": [],
   "source": [
    "url = doi_json['url']"
   ]
  },
  {
   "cell_type": "markdown",
   "id": "68913c72-d98b-4da4-b57d-039f9eff9c7b",
   "metadata": {},
   "source": [
    "# Retrieving the HTML"
   ]
  },
  {
   "cell_type": "code",
   "execution_count": 96,
   "id": "560f4471-f6e1-4b32-ba91-ac1e00496ce6",
   "metadata": {},
   "outputs": [],
   "source": [
    "# We need to forge the header to pretent to be a normal browser rather than a script. \n",
    "session = requests.Session()\n",
    "user_agent = 'Mozilla/5.0 (X11; Ubuntu; Linux x86_64; rv:63.0) Gecko/20100101 Firefox/63.0'\n",
    "session.headers['User-Agent'] = user_agent\n",
    "ret = session.get(url)"
   ]
  },
  {
   "cell_type": "markdown",
   "id": "663ca7f6-799e-4f9a-8a1a-fc0044d889da",
   "metadata": {},
   "source": [
    "# Parsing the HTML to extract section titles"
   ]
  },
  {
   "cell_type": "code",
   "execution_count": 97,
   "id": "128f0537-ae58-4d02-9d64-483eef4df09d",
   "metadata": {},
   "outputs": [],
   "source": [
    "soup = BeautifulSoup(ret.text)"
   ]
  },
  {
   "cell_type": "code",
   "execution_count": 98,
   "id": "9f7e739d-5f98-49a2-ae35-d9023e7acf3a",
   "metadata": {},
   "outputs": [],
   "source": [
    "section_class = \"article-section__title section__title section1\"\n",
    "sections = soup.find_all('h2', class_=section_class)\n",
    "\n",
    "subsection_class = 'article-section__sub-title section2'\n",
    "subsections = soup.find_all('h3', class_=subsection_class)"
   ]
  },
  {
   "cell_type": "code",
   "execution_count": 99,
   "id": "b85b38e5-fc81-4414-8ce4-5535e99f1431",
   "metadata": {},
   "outputs": [
    {
     "data": {
      "text/plain": [
       "['Introduction',\n",
       " 'Case Study',\n",
       " 'REM Modeling',\n",
       " 'Modeling Against Observational Statistics',\n",
       " 'Discussions',\n",
       " 'Conclusions',\n",
       " 'Acknowledgments',\n",
       " 'Two Radiative Ratios']"
      ]
     },
     "execution_count": 99,
     "metadata": {},
     "output_type": "execute_result"
    }
   ],
   "source": [
    "section_titles = []\n",
    "for section in sections:\n",
    "    section_title =  section.get_text() # sane as section_title =  section.contents[0]\n",
    "    section_title = re.sub(\"\\d+\", \"\", section_title)\n",
    "    section_title = section_title.strip()\n",
    "    section_titles.append(section_title)\n",
    "section_titles"
   ]
  },
  {
   "cell_type": "markdown",
   "id": "10a6f398-7a6d-4dfc-b88a-f8af3f2d9d95",
   "metadata": {},
   "source": [
    "# We can also get the text after a section"
   ]
  },
  {
   "cell_type": "code",
   "execution_count": 80,
   "id": "74c6f45e-18bd-485d-b95b-4fdf505a41c5",
   "metadata": {},
   "outputs": [
    {
     "data": {
      "text/plain": [
       "\"Optically thin and thick ice clouds in the upper troposphere affect the Earth's radiation oppositely: the former warms the surface with their inefficient blocking of incoming solar radiation, whereas the latter cools the surface with their strong reflection of solar radiation back to space (Wall & Hartmann,\\xa02018; Zeng et\\xa0al.,\\xa02009). However, these ice clouds are not represented well in the current weather and climate models (Jiang et\\xa0al.,\\xa02012, 2015; Klein et\\xa0al., 2009; Zhang et\\xa0al., 2005). For example, the Weather Research and Forecasting model with several sophisticated microphysics parameterization schemes, compared to the W-band radar observations, tends to generate excessive thick anvil clouds and insufficient thin cirrus clouds (Franklin et\\xa0al.,\\xa02016; Powell et\\xa0al.,\\xa02012; Zeng et\\xa0al.,\\xa02013). The global models have a more serious bias in the same direction (Barahona et\\xa0al.,\\xa02013; Eidhammer et\\xa0al.,\\xa02017; Pincus et\\xa0al.,\\xa02012).The modeling bias might be mitigated if an additional precipitation process was introduced to convert relatively thick ice clouds to thin ones. One candidate of the precipitation process is the radiative effect on microphysics (REM) (Hall & Pruppacher,\\xa01976; Heymsfield,\\xa01973; Roach,\\xa01976; Stephens,\\xa01983; Wu et\\xa0al.,\\xa02000; Zeng,\\xa02008; see Zeng,\\xa02018a, 2018b, for review).REM is different from the effect of radiation on clouds through air temperature (i.e., radiation-modified atmospheric stability and relative humidity). Instead, it is the effect of radiation on cloud particle spectrum via a radiation-induced difference in temperature between air and cloud particles (see Appendix\\xa0A). It, for example, can bring about the dew/frost formation near the ground surface even while air is unsaturated (Koeppe & De Long,\\xa01958). It can also bring about diamond dust (or clear-sky precipitation) in the Arctic regions (Zeng,\\xa02018b) and accelerate the formation of precipitating ice crystals in cirrus clouds via the radiation-induced broadening of ice crystal spectrum (Gong et\\xa0al.,\\xa02018; Zeng,\\xa02008; Zeng et\\xa0al.,\\xa02019).REM in clouds is usually noticed by observing its consequence on cloud particles. Stephens\\xa0(1983), for example, first connected REM to an ice crystal observation: ice crystal can survive a fall of ∼ 6\\xa0km through relatively dry air in the upper troposphere (Braham & Spyers-Duran,\\xa01967). Zeng\\xa0(2018b) also connected REM to the high frequency of diamond dust observed in the Arctic regions (see Section\\xa04 for more comparison between REM and observations). Can REM be noticed in other clouds via observations? This question falls into the present focus.where σ is the Stefan–Boltzmann constant, T is air temperature, and F+ and F− are the upward and downward fluxes of infrared radiation (IR) in the atmosphere, respectively. Roughly speaking, ηz is a ratio of total IR warming (numerator) to IR cooling (denominator) of a horizontally oriented plate-like body (see Appendix\\xa0A). Since F+ and F− are affected by clouds and other factors (e.g., land surface temperature), ηz and thus REM vary from cloud to cloud.When ηz\\xa0<\\xa01, ice crystals undergo radiative cooling and thus their spectrum is broadened; otherwise, ice crystals undergo radiative warming and their spectrum is narrowed (see Section\\xa03 for more discussion). Hence, based on the sign of ηz - 1, REM is classified into two types: radiative cooling and warming. In this study, in situ ηz is calculated with satellite-retrieved cloud variables; once ηz is obtained and then used to classify REM, a microphysical bin model is carried out to simulate REM against observations.This study consists of six sections. In Section\\xa02, in situ ηz is calculated with satellite-retrieved cloud variables. In Section\\xa03, bin-model simulations are carried out to reveal a difference in REM between midlevel and high-level clouds. In Section\\xa04, the model results are compared with satellite observations. Section\\xa05 discusses other factors of REM (e.g., vertical velocity), and Section\\xa06 concludes with a consistency between the REM modeling and observations.\""
      ]
     },
     "execution_count": 80,
     "metadata": {},
     "output_type": "execute_result"
    }
   ],
   "source": [
    "text = ''\n",
    "for paragraph in sections[0].parent.find_all('p'):\n",
    "    text += paragraph.text\n",
    "text"
   ]
  }
 ],
 "metadata": {
  "kernelspec": {
   "display_name": "Python 3 (ipykernel)",
   "language": "python",
   "name": "python3"
  },
  "language_info": {
   "codemirror_mode": {
    "name": "ipython",
    "version": 3
   },
   "file_extension": ".py",
   "mimetype": "text/x-python",
   "name": "python",
   "nbconvert_exporter": "python",
   "pygments_lexer": "ipython3",
   "version": "3.8.10"
  }
 },
 "nbformat": 4,
 "nbformat_minor": 5
}
